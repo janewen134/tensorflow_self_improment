{
  "nbformat": 4,
  "nbformat_minor": 0,
  "metadata": {
    "colab": {
      "name": "Untitled2.ipynb",
      "provenance": [],
      "authorship_tag": "ABX9TyNgyEjl+/OyRsMej4SUk7ls",
      "include_colab_link": true
    },
    "kernelspec": {
      "name": "python3",
      "display_name": "Python 3"
    }
  },
  "cells": [
    {
      "cell_type": "markdown",
      "metadata": {
        "id": "view-in-github",
        "colab_type": "text"
      },
      "source": [
        "<a href=\"https://colab.research.google.com/github/janewen134/tensorflow_self_improvement/blob/master/class4/train_auged_img.ipynb\" target=\"_parent\"><img src=\"https://colab.research.google.com/assets/colab-badge.svg\" alt=\"Open In Colab\"/></a>"
      ]
    },
    {
      "cell_type": "code",
      "metadata": {
        "id": "d8SwdENbLwh7"
      },
      "source": [
        "import tensorflow as tf\n",
        "from tensorflow.keras.preprocessing.image import ImageDataGenerator"
      ],
      "execution_count": 6,
      "outputs": []
    },
    {
      "cell_type": "code",
      "metadata": {
        "id": "HxtZwP6LoL0C"
      },
      "source": [
        "mnist = tf.keras.datasets.mnist\n",
        "(x_train, y_train), (x_test, y_test) = mnist.load_data()\n",
        "x_train, x_test = x_train / 255.0, x_test / 255.0\n",
        "x_train = x_train.reshape(x_train.shape[0], 28, 28, 1)  # 给数据增加一个维度,从(60000, 28, 28)reshape为(60000, 28, 28, 1)"
      ],
      "execution_count": 7,
      "outputs": []
    },
    {
      "cell_type": "code",
      "metadata": {
        "id": "WF55axT4owHa"
      },
      "source": [
        "image_gen_train = ImageDataGenerator(\n",
        "    rescale=1./255,  # 如为图像，分母为255时，可归至0～1\n",
        "    rotation_range=45,  # 随机45度旋转\n",
        "    width_shift_range=.15,  # 宽度偏移\n",
        "    height_shift_range=.15,  # 高度偏移\n",
        "    horizontal_flip=False,  # 水平翻转\n",
        "    zoom_range=0.5  # 将图像随机缩放阈量50％\n",
        ")\n",
        "image_gen_train.fit(x_train)"
      ],
      "execution_count": 8,
      "outputs": []
    },
    {
      "cell_type": "code",
      "metadata": {
        "id": "0dxIDvulo6xz"
      },
      "source": [
        "model = tf.keras.models.Sequential([\n",
        "    tf.keras.layers.Flatten(),\n",
        "    tf.keras.layers.Dense(128, activation='relu'),\n",
        "    tf.keras.layers.Dense(10, activation='softmax')\n",
        "])"
      ],
      "execution_count": 9,
      "outputs": []
    },
    {
      "cell_type": "code",
      "metadata": {
        "id": "k7BEhCZvpgpY"
      },
      "source": [
        "model.compile(optimizer='adam',\n",
        "              loss=tf.keras.losses.SparseCategoricalCrossentropy(from_logits=False),\n",
        "              metrics=['sparse_categorical_accuracy'])"
      ],
      "execution_count": 10,
      "outputs": []
    },
    {
      "cell_type": "code",
      "metadata": {
        "id": "21I5p8IQqBIY",
        "outputId": "9496a5f4-e879-4110-e3eb-488e826aad53",
        "colab": {
          "base_uri": "https://localhost:8080/",
          "height": 241
        }
      },
      "source": [
        "model.fit(image_gen_train.flow(x_train, y_train, batch_size=32), epochs=5, validation_data=(x_test, y_test),\n",
        "          validation_freq=1)"
      ],
      "execution_count": 11,
      "outputs": [
        {
          "output_type": "stream",
          "text": [
            "Epoch 1/5\n",
            "1874/1875 [============================>.] - ETA: 0s - loss: 2.1696 - sparse_categorical_accuracy: 0.2152WARNING:tensorflow:Model was constructed with shape (None, None, None, None) for input Tensor(\"flatten_1_input_1:0\", shape=(None, None, None, None), dtype=float32), but it was called on an input with incompatible shape (None, 28, 28).\n",
            "1875/1875 [==============================] - 26s 14ms/step - loss: 2.1695 - sparse_categorical_accuracy: 0.2152 - val_loss: 129.2311 - val_sparse_categorical_accuracy: 0.2452\n",
            "Epoch 2/5\n",
            "1875/1875 [==============================] - 21s 11ms/step - loss: 2.0544 - sparse_categorical_accuracy: 0.2632 - val_loss: 146.9964 - val_sparse_categorical_accuracy: 0.2842\n",
            "Epoch 3/5\n",
            "1875/1875 [==============================] - 21s 11ms/step - loss: 2.0182 - sparse_categorical_accuracy: 0.2822 - val_loss: 153.8081 - val_sparse_categorical_accuracy: 0.3309\n",
            "Epoch 4/5\n",
            "1875/1875 [==============================] - 21s 11ms/step - loss: 1.9674 - sparse_categorical_accuracy: 0.3063 - val_loss: 149.7566 - val_sparse_categorical_accuracy: 0.3475\n",
            "Epoch 5/5\n",
            "1875/1875 [==============================] - 22s 12ms/step - loss: 1.9001 - sparse_categorical_accuracy: 0.3359 - val_loss: 150.5021 - val_sparse_categorical_accuracy: 0.3506\n"
          ],
          "name": "stdout"
        },
        {
          "output_type": "execute_result",
          "data": {
            "text/plain": [
              "<tensorflow.python.keras.callbacks.History at 0x7f2cbd0c7ba8>"
            ]
          },
          "metadata": {
            "tags": []
          },
          "execution_count": 11
        }
      ]
    },
    {
      "cell_type": "code",
      "metadata": {
        "id": "mxJSQlXKqB2A",
        "outputId": "cfccfc81-d753-42a0-942f-10732685d2b0",
        "colab": {
          "base_uri": "https://localhost:8080/",
          "height": 255
        }
      },
      "source": [
        "model.summary()"
      ],
      "execution_count": 12,
      "outputs": [
        {
          "output_type": "stream",
          "text": [
            "Model: \"sequential_1\"\n",
            "_________________________________________________________________\n",
            "Layer (type)                 Output Shape              Param #   \n",
            "=================================================================\n",
            "flatten_1 (Flatten)          (None, None)              0         \n",
            "_________________________________________________________________\n",
            "dense_2 (Dense)              (None, 128)               100480    \n",
            "_________________________________________________________________\n",
            "dense_3 (Dense)              (None, 10)                1290      \n",
            "=================================================================\n",
            "Total params: 101,770\n",
            "Trainable params: 101,770\n",
            "Non-trainable params: 0\n",
            "_________________________________________________________________\n"
          ],
          "name": "stdout"
        }
      ]
    }
  ]
}