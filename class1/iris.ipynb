{
  "nbformat": 4,
  "nbformat_minor": 0,
  "metadata": {
    "colab": {
      "name": "iris.ipynb",
      "provenance": [],
      "collapsed_sections": [],
      "authorship_tag": "ABX9TyPiuIUrhoR4xXiCCbAJa5oG",
      "include_colab_link": true
    },
    "kernelspec": {
      "name": "python3",
      "display_name": "Python 3"
    }
  },
  "cells": [
    {
      "cell_type": "markdown",
      "metadata": {
        "id": "view-in-github",
        "colab_type": "text"
      },
      "source": [
        "<a href=\"https://colab.research.google.com/github/janewen134/tensorflow_self_improvement/blob/after_class_revision/iris.ipynb\" target=\"_parent\"><img src=\"https://colab.research.google.com/assets/colab-badge.svg\" alt=\"Open In Colab\"/></a>"
      ]
    },
    {
      "cell_type": "markdown",
      "metadata": {
        "id": "yd-bWroqpdI0",
        "colab_type": "text"
      },
      "source": [
        "Load Dataset"
      ]
    },
    {
      "cell_type": "code",
      "metadata": {
        "id": "5IyZzZL8DNFI",
        "colab_type": "code",
        "colab": {}
      },
      "source": [
        "from sklearn import datasets\n",
        "from pandas import DataFrame\n",
        "import pandas as pd\n",
        "import numpy as np\n",
        "import tensorflow as tf\n",
        "\n",
        "\n",
        "x_data = datasets.load_iris().data\n",
        "y_data = datasets.load_iris().target"
      ],
      "execution_count": 54,
      "outputs": []
    },
    {
      "cell_type": "markdown",
      "metadata": {
        "id": "g0fDsiK4IbCd",
        "colab_type": "text"
      },
      "source": [
        "shuffle data in dataset"
      ]
    },
    {
      "cell_type": "code",
      "metadata": {
        "id": "rJ-L1jxJIf_r",
        "colab_type": "code",
        "colab": {}
      },
      "source": [
        "np.random.seed(160)   # use same seed to keep shuffled x and y corresponding\n",
        "np.random.shuffle(x_data)\n",
        "np.random.seed(160)\n",
        "np.random.shuffle(y_data)\n",
        "tf.random.set_seed(160)"
      ],
      "execution_count": 55,
      "outputs": []
    },
    {
      "cell_type": "markdown",
      "metadata": {
        "id": "OvuZA50ZJOpp",
        "colab_type": "text"
      },
      "source": [
        "divide dataset into training set and test set"
      ]
    },
    {
      "cell_type": "code",
      "metadata": {
        "id": "c3u9dE2wJTUx",
        "colab_type": "code",
        "colab": {}
      },
      "source": [
        "x_train = x_data[:-30,:]    # can use x_data[:-30] alternatively\n",
        "x_test = x_data[-30:,:]\n",
        "y_train = y_data[:-30]\n",
        "y_test = y_data[-30:]"
      ],
      "execution_count": 56,
      "outputs": []
    },
    {
      "cell_type": "markdown",
      "metadata": {
        "id": "Je0j0T5Je4Pq",
        "colab_type": "text"
      },
      "source": [
        "cast data type to float32 to avoid potential conflicts into the subsequent matrix computation"
      ]
    },
    {
      "cell_type": "code",
      "metadata": {
        "id": "Z8Cdgv9QcR6g",
        "colab_type": "code",
        "colab": {}
      },
      "source": [
        "x_train = tf.cast(x_train, tf.float32)\n",
        "x_test = tf.cast(x_test, tf.float32)"
      ],
      "execution_count": 57,
      "outputs": []
    },
    {
      "cell_type": "markdown",
      "metadata": {
        "id": "aX7k3FBTiKSY",
        "colab_type": "text"
      },
      "source": [
        "The from_tensor_slices function makes one-to-one correspondence between input features and label values. Divide the data set into batches."
      ]
    },
    {
      "cell_type": "code",
      "metadata": {
        "id": "ZheRS39ciIWO",
        "colab_type": "code",
        "colab": {}
      },
      "source": [
        "train_db = tf.data.Dataset.from_tensor_slices((x_train, y_train)).batch(32)\n",
        "test_db = tf.data.Dataset.from_tensor_slices((x_test, y_test)).batch(32)"
      ],
      "execution_count": 58,
      "outputs": []
    },
    {
      "cell_type": "markdown",
      "metadata": {
        "id": "pJFJP7KDkZgd",
        "colab_type": "text"
      },
      "source": [
        "To generate the parameters of the neural network, 4 input features, so the input layer has 4 input nodes; because of 3 classifications, the output layer has 3 neurons"
      ]
    },
    {
      "cell_type": "code",
      "metadata": {
        "id": "GVwTDYAflJpu",
        "colab_type": "code",
        "colab": {}
      },
      "source": [
        "w1 = tf.Variable(tf.random.truncated_normal([4, 3], stddev=0.1))\n",
        "b1 = tf.Variable(tf.random.truncated_normal([3], stddev=0.1))"
      ],
      "execution_count": 59,
      "outputs": []
    },
    {
      "cell_type": "markdown",
      "metadata": {
        "id": "Mvx2lgoVmED2",
        "colab_type": "text"
      },
      "source": [
        "hyperparameter"
      ]
    },
    {
      "cell_type": "code",
      "metadata": {
        "id": "zF55_D6CmG1V",
        "colab_type": "code",
        "colab": {}
      },
      "source": [
        "lr = 0.1    # learning rate\n",
        "train_loss_results = []  # Record the loss of each round in this list to provide data for subsequent drawing of the loss curve\n",
        "test_acc = []  # Record the acc of each round in this list to provide data for subsequent drawing of the acc curve\n",
        "epoch = 500  # 500 cycles\n",
        "loss_all = 0  # 每轮分4个step，loss_all记录四个step生成的4个loss的和Each round is divided into 4 steps, loss_all records the sum of 4 losses generated by the four steps"
      ],
      "execution_count": 60,
      "outputs": []
    },
    {
      "cell_type": "markdown",
      "metadata": {
        "id": "8yDtk-lAnkWZ",
        "colab_type": "text"
      },
      "source": [
        "training and testing part"
      ]
    },
    {
      "cell_type": "code",
      "metadata": {
        "id": "ShZwV_i0neHC",
        "colab_type": "code",
        "colab": {}
      },
      "source": [
        "for epoch in range(epoch):\n",
        "  for x_train, y_train in train_db:   # i.e.'for step, (x_train, y_train) in enumerate(train_db):'  \n",
        "    with tf.GradientTape() as tape:\n",
        "      y = tf.matmul(x_train, w1) + b1\n",
        "      y = tf.nn.softmax(y)\n",
        "      y_ = tf.one_hot(y_train, depth=3)\n",
        "      loss = tf.reduce_mean(tf.square(y - y_))\n",
        "      loss_all += loss.numpy()\n",
        "    grads = tape.gradient(loss, [w1, b1])\n",
        "    w1.assign_sub(lr * grads[0])\n",
        "    b1.assign_sub(lr * grads[1])\n",
        "  # print(\"Epoch {}, avg loss {}\".format(epoch, loss_all/4))  \n",
        "  train_loss_results.append(loss_all / 4)\n",
        "  loss_all = 0\n",
        "  testing part\n",
        "  total_correct, total_number = 0, 0\n",
        "  for x_test, y_test in test_db:\n",
        "    y = tf.matmul(x_test, w1)+b1\n",
        "    y = tf.nn.softmax(y)\n",
        "    pred = tf.argmax(y, axis=1)\n",
        "    pred = tf.cast(pred, dtype=y_test.dtype)\n",
        "    correct = tf.cast(tf.equal(pred, y_test), dtype=tf.int32)\n",
        "    correct = tf.reduce_sum(correct)\n",
        "    total_correct += int(correct) # convert tf.int to int\n",
        "    total_number += x_test.shape[0]\n",
        "  acc = total_correct / total_number\n",
        "  # The append() method in python adds a single item to the existing list. \n",
        "  # It doesn't return a new list of items but will modify the original list by \n",
        "  # adding the item to the end of the list.\n",
        "  test_acc.append(acc)\n",
        "  print(\"Test_acc:\", acc)\n",
        "  print(\"--------------------------\")"
      ],
      "execution_count": null,
      "outputs": []
    },
    {
      "cell_type": "markdown",
      "metadata": {
        "id": "RIDZukU84pX7",
        "colab_type": "text"
      },
      "source": [
        "Plot the loss curve"
      ]
    },
    {
      "cell_type": "code",
      "metadata": {
        "id": "bOM3E3WSx4nj",
        "colab_type": "code",
        "colab": {
          "base_uri": "https://localhost:8080/",
          "height": 295
        },
        "outputId": "0ae2baf9-4bdf-40af-e770-6c30896a5f59"
      },
      "source": [
        "import matplotlib.pyplot as plt\n",
        "\n",
        "plt.title('Loss Function Curve')  # 图片标题\n",
        "plt.xlabel('Epoch')  # x轴变量名称\n",
        "plt.ylabel('Loss')  # y轴变量名称\n",
        "plt.plot(train_loss_results, label=\"$Loss$\")  # 逐点画出trian_loss_results值并连线，连线图标是Loss\n",
        "plt.legend()  # 画出曲线图标\n",
        "plt.show()  # 画出图像"
      ],
      "execution_count": 63,
      "outputs": [
        {
          "output_type": "display_data",
          "data": {
            "image/png": "[encoded data removed]",
            "text/plain": [
              "<Figure size 432x288 with 1 Axes>"
            ]
          },
          "metadata": {
            "tags": [],
            "needs_background": "light"
          }
        }
      ]
    },
    {
      "cell_type": "markdown",
      "metadata": {
        "id": "y4_8V7tO5C2s",
        "colab_type": "text"
      },
      "source": [
        "Plot the accuracy curve"
      ]
    },
    {
      "cell_type": "code",
      "metadata": {
        "id": "8PxzLhQn40z1",
        "colab_type": "code",
        "colab": {
          "base_uri": "https://localhost:8080/",
          "height": 295
        },
        "outputId": "8edcb52d-5d6a-446f-cd0a-cf7dd3e6c5d6"
      },
      "source": [
        "plt.title('Acc Curve')  # 图片标题\n",
        "plt.xlabel('Epoch')  # x轴变量名称\n",
        "plt.ylabel('Acc')  # y轴变量名称\n",
        "plt.plot(test_acc, label=\"$Accuracy$\")  # 逐点画出test_acc值并连线，连线图标是Accuracy\n",
        "plt.legend()\n",
        "plt.show()"
      ],
      "execution_count": 64,
      "outputs": [
        {
          "output_type": "display_data",
          "data": {
            "image/png": "[encoded data removed]",
            "text/plain": [
              "<Figure size 432x288 with 1 Axes>"
            ]
          },
          "metadata": {
            "tags": [],
            "needs_background": "light"
          }
        }
      ]
    },
    {
      "cell_type": "code",
      "metadata": {
        "id": "lZoR_1jX5Ize",
        "colab_type": "code",
        "colab": {}
      },
      "source": [
        ""
      ],
      "execution_count": 64,
      "outputs": []
    }
  ]
}