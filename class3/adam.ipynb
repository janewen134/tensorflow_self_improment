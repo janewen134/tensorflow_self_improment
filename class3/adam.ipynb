{
  "nbformat": 4,
  "nbformat_minor": 0,
  "metadata": {
    "colab": {
      "name": "adam.ipynb",
      "provenance": [],
      "authorship_tag": "ABX9TyNaGmllovRsOoZaxVhK3MWB",
      "include_colab_link": true
    },
    "kernelspec": {
      "name": "python3",
      "display_name": "Python 3"
    }
  },
  "cells": [
    {
      "cell_type": "markdown",
      "metadata": {
        "id": "view-in-github",
        "colab_type": "text"
      },
      "source": [
        "<a href=\"https://colab.research.google.com/github/janewen134/tensorflow_self_improvement/blob/after_class_revision/class3/adam.ipynb\" target=\"_parent\"><img src=\"https://colab.research.google.com/assets/colab-badge.svg\" alt=\"Open In Colab\"/></a>"
      ]
    },
    {
      "cell_type": "code",
      "metadata": {
        "id": "E_sP_Ee7wRFL",
        "colab_type": "code",
        "colab": {}
      },
      "source": [
        "# 利用鸢尾花数据集，实现前向传播、反向传播，可视化loss曲线\n",
        "\n",
        "# 导入所需模块\n",
        "import tensorflow as tf\n",
        "from sklearn import datasets\n",
        "from matplotlib import pyplot as plt\n",
        "import numpy as np\n",
        "import time  ##1##"
      ],
      "execution_count": 70,
      "outputs": []
    },
    {
      "cell_type": "code",
      "metadata": {
        "id": "blCa10yuUEnd",
        "colab_type": "code",
        "colab": {}
      },
      "source": [
        "# 导入数据，分别为输入特征和标签\n",
        "x_data = datasets.load_iris().data\n",
        "y_data = datasets.load_iris().target"
      ],
      "execution_count": 71,
      "outputs": []
    },
    {
      "cell_type": "code",
      "metadata": {
        "id": "b7o4YM-4UJvA",
        "colab_type": "code",
        "colab": {}
      },
      "source": [
        "# 随机打乱数据（因为原始数据是顺序的，顺序不打乱会影响准确率）\n",
        "# seed: 随机数种子，是一个整数，当设置之后，每次生成的随机数都一样（为方便教学，以保每位同学结果一致）\n",
        "np.random.seed(116)  # 使用相同的seed，保证输入特征和标签一一对应\n",
        "np.random.shuffle(x_data)\n",
        "np.random.seed(116)\n",
        "np.random.shuffle(y_data)\n",
        "tf.random.set_seed(116)"
      ],
      "execution_count": 72,
      "outputs": []
    },
    {
      "cell_type": "code",
      "metadata": {
        "id": "gYD0wDBGVF7t",
        "colab_type": "code",
        "colab": {
          "base_uri": "https://localhost:8080/",
          "height": 68
        },
        "outputId": "eeccb803-45a2-4174-b70a-99f20e0a8e2a"
      },
      "source": [
        "# 将打乱后的数据集分割为训练集和测试集，训练集为前120行，测试集为后30行\n",
        "x_train = x_data[:-30]\n",
        "y_train = y_data[:-30]\n",
        "x_test = x_data[-30:]\n",
        "y_test = y_data[-30:]\n",
        "# Python的每个对象都分为可变和不可变，主要的核心类型中，数字、字符串、元组是不可变的，列表、字典是可变的。\n",
        "# 对不可变类型的变量重新赋值，实际上是重新创建一个不可变类型的对象，\n",
        "# 并将原来的变量重新指向新创建的对象（如果没有其他变量引用原有对象的话（即引用计数为0），原有对象就会被回收）\n",
        "# 执行 i += 1 时，内存地址都会变化，因为int 类型是不可变的。\n",
        "print(hex(id(x_data)))\n",
        "print(hex(id(x_train)))\n",
        "print(hex(id(x_test)))"
      ],
      "execution_count": 73,
      "outputs": [
        {
          "output_type": "stream",
          "text": [
            "0x7f2d826faa80\n",
            "0x7f2d826f7120\n",
            "0x7f2d826f7490\n"
          ],
          "name": "stdout"
        }
      ]
    },
    {
      "cell_type": "code",
      "metadata": {
        "id": "0IX6zNzMVchB",
        "colab_type": "code",
        "colab": {}
      },
      "source": [
        "# 转换x的数据类型，否则后面矩阵相乘时会因数据类型不一致报错\n",
        "x_train = tf.cast(x_train, tf.float32)\n",
        "x_test = tf.cast(x_test, tf.float32)"
      ],
      "execution_count": 74,
      "outputs": []
    },
    {
      "cell_type": "code",
      "metadata": {
        "id": "qZ_ZI-cEZI5L",
        "colab_type": "code",
        "colab": {}
      },
      "source": [
        "# from_tensor_slices函数使输入特征和标签值一一对应。（把数据集分批次，每个批次batch组数据）\n",
        "train_db = tf.data.Dataset.from_tensor_slices((x_train, y_train)).batch(32)\n",
        "test_db = tf.data.Dataset.from_tensor_slices((x_test, y_test)).batch(32)"
      ],
      "execution_count": 75,
      "outputs": []
    },
    {
      "cell_type": "code",
      "metadata": {
        "id": "eIKbiCFjZ1tg",
        "colab_type": "code",
        "colab": {}
      },
      "source": [
        "# 生成神经网络的参数，4个输入特征，故输入层为4个输入节点；因为3分类，故输出层为3个神经元\n",
        "# 用tf.Variable()标记参数可训练\n",
        "# 使用seed使每次生成的随机数相同（方便教学，使大家结果都一致，在现实使用时不写seed）\n",
        "w1 = tf.Variable(tf.random.truncated_normal([4, 3], stddev=0.1, seed=1))\n",
        "b1 = tf.Variable(tf.random.truncated_normal([3], stddev=0.1, seed=1))\n",
        "\n",
        "lr = 0.1  # 学习率为0.1\n",
        "train_loss_results = []  # 将每轮的loss记录在此列表中，为后续画loss曲线提供数据\n",
        "test_acc = []  # 将每轮的acc记录在此列表中，为后续画acc曲线提供数据\n",
        "epoch = 500  # 循环500轮\n",
        "loss_all = 0  # 每轮分4个step，loss_all记录四个step生成的4个loss的和\n",
        "\n",
        "# sgdm\n",
        "##########################################################################\n",
        "# m_w, m_b = 0, 0\n",
        "# beta = 0.9\n",
        "##########################################################################\n",
        "\n",
        "# adagrad\n",
        "##########################################################################\n",
        "#v_w, v_b = 0, 0\n",
        "##########################################################################\n",
        "\n",
        "# rmsprop\n",
        "##########################################################################\n",
        "# v_w, v_b = 0, 0\n",
        "# beta = 0.9\n",
        "##########################################################################\n",
        "\n",
        "# adam\n",
        "##########################################################################\n",
        "m_w, m_b = 0, 0\n",
        "v_w, v_b = 0, 0\n",
        "beta1, beta2 = 0.9, 0.999\n",
        "delta_w, delta_b = 0, 0\n",
        "global_step = 0\n",
        "##########################################################################\n"
      ],
      "execution_count": 76,
      "outputs": []
    },
    {
      "cell_type": "code",
      "metadata": {
        "id": "J5hQ2mJpf7nN",
        "colab_type": "code",
        "colab": {
          "base_uri": "https://localhost:8080/",
          "height": 34
        },
        "outputId": "69463e9a-964d-4ca9-a550-16220c8d1831"
      },
      "source": [
        "# 训练部分\n",
        "now_time = time.time()  ##2##\n",
        "for epoch in range(epoch):  # 数据集级别的循环，每个epoch循环一次数据集\n",
        "    for step, (x_train, y_train) in enumerate(train_db):  # batch级别的循环 ，每个step循环一个batch\n",
        "        ##########################################################################       \n",
        "        global_step += 1\n",
        "        ########################################################################## \n",
        "        with tf.GradientTape() as tape:  # with结构记录梯度信息\n",
        "            y = tf.matmul(x_train, w1) + b1  # 神经网络乘加运算\n",
        "            y = tf.nn.softmax(y)  # 使输出y符合概率分布（此操作后与独热码同量级，可相减求loss）\n",
        "            y_ = tf.one_hot(y_train, depth=3)  # 将标签值转换为独热码格式，方便计算loss和accuracy\n",
        "            loss = tf.reduce_mean(tf.square(y_ - y))  # 采用均方误差损失函数mse = mean(sum(y-out)^2)\n",
        "            loss_all += loss.numpy()  # 将每个step计算出的loss累加，为后续求loss平均值提供数据，这样计算的loss更准确\n",
        "        # 计算loss对各个参数的梯度\n",
        "        grads = tape.gradient(loss, [w1, b1])\n",
        "\n",
        "        # 实现梯度更新 w1 = w1 - lr * w1_grad    b = b - lr * b_grad\n",
        "        # w1.assign_sub(lr * grads[0])  # 参数w1自更新\n",
        "        # b1.assign_sub(lr * grads[1])  # 参数b自更新\n",
        "\n",
        "        ##########################################################################\n",
        "        # sgd-momentun  \n",
        "        # m_w = beta * m_w + (1 - beta) * grads[0]\n",
        "        # m_b = beta * m_b + (1 - beta) * grads[1]\n",
        "        # w1.assign_sub(lr * m_w)\n",
        "        # b1.assign_sub(lr * m_b)\n",
        "        ##########################################################################\n",
        "\n",
        "        ##########################################################################\n",
        "        #adagrad\n",
        "        # v_w += tf.square(grads[0])\n",
        "        # v_b += tf.square(grads[1])\n",
        "        # w1.assign_sub(lr * grads[0] / tf.sqrt(v_w))\n",
        "        # b1.assign_sub(lr * grads[1] / tf.sqrt(v_b))\n",
        "        ##########################################################################\n",
        "\n",
        "        ##########################################################################\n",
        "        # rmsprop\n",
        "        # v_w = beta * v_w + (1 - beta) * tf.square(grads[0])\n",
        "        # v_b = beta * v_b + (1 - beta) * tf.square(grads[1])\n",
        "        # w1.assign_sub(lr * grads[0] / tf.sqrt(v_w))\n",
        "        # b1.assign_sub(lr * grads[1] / tf.sqrt(v_b))\n",
        "        ##########################################################################\n",
        "\n",
        "        ##########################################################################\n",
        "        # adam\n",
        "        m_w = beta1 * m_w + (1 - beta1) * grads[0]\n",
        "        m_b = beta1 * m_b + (1 - beta1) * grads[1]\n",
        "        v_w = beta2 * v_w + (1 - beta2) * tf.square(grads[0])\n",
        "        v_b = beta2 * v_b + (1 - beta2) * tf.square(grads[1])\n",
        "\n",
        "        m_w_correction = m_w / (1 - tf.pow(beta1, int(global_step)))\n",
        "        m_b_correction = m_b / (1 - tf.pow(beta1, int(global_step)))\n",
        "        v_w_correction = v_w / (1 - tf.pow(beta2, int(global_step)))\n",
        "        v_b_correction = v_b / (1 - tf.pow(beta2, int(global_step)))\n",
        "\n",
        "        w1.assign_sub(lr * m_w_correction / tf.sqrt(v_w_correction))\n",
        "        b1.assign_sub(lr * m_b_correction / tf.sqrt(v_b_correction))\n",
        "        ##########################################################################\n",
        "\n",
        "    # 每个epoch，打印loss信息\n",
        "    # print(\"Epoch {}, loss: {}\".format(epoch, loss_all / 4))\n",
        "    train_loss_results.append(loss_all / 4)  # 将4个step的loss求平均记录在此变量中\n",
        "    loss_all = 0  # loss_all归零，为记录下一个epoch的loss做准备\n",
        "\n",
        "    # 测试部分\n",
        "    # total_correct为预测对的样本个数, total_number为测试的总样本数，将这两个变量都初始化为0\n",
        "    total_correct, total_number = 0, 0\n",
        "    for x_test, y_test in test_db:\n",
        "        # 使用更新后的参数进行预测\n",
        "        y = tf.matmul(x_test, w1) + b1\n",
        "        y = tf.nn.softmax(y)\n",
        "        pred = tf.argmax(y, axis=1)  # 返回y中最大值的索引，即预测的分类\n",
        "        # 将pred转换为y_test的数据类型\n",
        "        pred = tf.cast(pred, dtype=y_test.dtype)\n",
        "        # 若分类正确，则correct=1，否则为0，将bool型的结果转换为int型\n",
        "        correct = tf.cast(tf.equal(pred, y_test), dtype=tf.int32)\n",
        "        # 将每个batch的correct数加起来\n",
        "        correct = tf.reduce_sum(correct)\n",
        "        # 将所有batch中的correct数加起来\n",
        "        total_correct += int(correct)\n",
        "        # total_number为测试的总样本数，也就是x_test的行数，shape[0]返回变量的行数\n",
        "        total_number += x_test.shape[0]\n",
        "    # 总的准确率等于total_correct/total_number\n",
        "    acc = total_correct / total_number\n",
        "    test_acc.append(acc)\n",
        "    # print(\"Test_acc:\", acc)\n",
        "    # print(\"--------------------------\")\n",
        "total_time = time.time() - now_time  ##3##\n",
        "print(\"total_time\", total_time)  ##4##"
      ],
      "execution_count": 77,
      "outputs": [
        {
          "output_type": "stream",
          "text": [
            "total_time 9.21623158454895\n"
          ],
          "name": "stdout"
        }
      ]
    },
    {
      "cell_type": "code",
      "metadata": {
        "id": "bjGTO6TYf8iH",
        "colab_type": "code",
        "colab": {
          "base_uri": "https://localhost:8080/",
          "height": 573
        },
        "outputId": "33c150dc-763a-469e-d473-0e131296b4f0"
      },
      "source": [
        "# 绘制 loss 曲线\n",
        "plt.title('Loss Function Curve')  # 图片标题\n",
        "plt.xlabel('Epoch')  # x轴变量名称\n",
        "plt.ylabel('Loss')  # y轴变量名称\n",
        "plt.plot(train_loss_results, label=\"$Loss$\")  # 逐点画出trian_loss_results值并连线，连线图标是Loss\n",
        "plt.legend()  # 画出曲线图标\n",
        "plt.show()  # 画出图像\n",
        "\n",
        "# 绘制 Accuracy 曲线\n",
        "plt.title('Acc Curve')  # 图片标题\n",
        "plt.xlabel('Epoch')  # x轴变量名称\n",
        "plt.ylabel('Acc')  # y轴变量名称\n",
        "plt.plot(test_acc, label=\"$Accuracy$\")  # 逐点画出test_acc值并连线，连线图标是Accuracy\n",
        "plt.legend()\n",
        "plt.show()"
      ],
      "execution_count": 78,
      "outputs": [
        {
          "output_type": "display_data",
          "data": {
            "image/png": "[encoded data removed]",
            "text/plain": [
              "<Figure size 432x288 with 1 Axes>"
            ]
          },
          "metadata": {
            "tags": [],
            "needs_background": "light"
          }
        },
        {
          "output_type": "display_data",
          "data": {
            "image/png": "[encoded data removed]",
            "text/plain": [
              "<Figure size 432x288 with 1 Axes>"
            ]
          },
          "metadata": {
            "tags": [],
            "needs_background": "light"
          }
        }
      ]
    },
    {
      "cell_type": "code",
      "metadata": {
        "id": "Bqo4ozvsiylY",
        "colab_type": "code",
        "colab": {}
      },
      "source": [
        ""
      ],
      "execution_count": 78,
      "outputs": []
    }
  ]
}