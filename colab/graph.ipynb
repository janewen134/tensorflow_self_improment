{
  "nbformat": 4,
  "nbformat_minor": 0,
  "metadata": {
    "colab": {
      "name": "graph.ipynb",
      "provenance": [],
      "authorship_tag": "ABX9TyPmUK0GLcxyi9HIxNYYWvUl",
      "include_colab_link": true
    },
    "kernelspec": {
      "name": "python3",
      "display_name": "Python 3"
    }
  },
  "cells": [
    {
      "cell_type": "markdown",
      "metadata": {
        "id": "view-in-github",
        "colab_type": "text"
      },
      "source": [
        "<a href=\"https://colab.research.google.com/github/janewen134/tensorflow_self_improvement/blob/master/colab/graph.ipynb\" target=\"_parent\"><img src=\"https://colab.research.google.com/assets/colab-badge.svg\" alt=\"Open In Colab\"/></a>"
      ]
    },
    {
      "cell_type": "code",
      "metadata": {
        "id": "aiG0gLSyd9nh"
      },
      "source": [
        "import tensorflow as tf\n",
        "tf.compat.v1.disable_eager_execution()"
      ],
      "execution_count": 6,
      "outputs": []
    },
    {
      "cell_type": "code",
      "metadata": {
        "colab": {
          "base_uri": "https://localhost:8080/"
        },
        "id": "-qJn5scSeEi5",
        "outputId": "0edadc56-0d7d-408c-f312-a037ea84f947"
      },
      "source": [
        "if __name__ == \"__main__\":\n",
        "  a = tf.constant([1.0, 2.0], name = 'a')\n",
        "  b = tf.constant([2.0, 3.0], name = 'b')\n",
        "  result = a + b\n",
        "  print(a.graph)\n",
        "  print(a.graph is tf.compat.v1.get_default_graph())"
      ],
      "execution_count": 9,
      "outputs": [
        {
          "output_type": "stream",
          "text": [
            "<tensorflow.python.framework.ops.Graph object at 0x7f3e7dca5320>\n",
            "True\n"
          ],
          "name": "stdout"
        }
      ]
    },
    {
      "cell_type": "code",
      "metadata": {
        "colab": {
          "base_uri": "https://localhost:8080/"
        },
        "id": "nwEaHjM5eH9J",
        "outputId": "dc582ffe-4025-437f-a9cf-7b47f1911ba4"
      },
      "source": [
        "g1 = tf.Graph()\n",
        "with g1.as_default():\n",
        "  c = tf.compat.v1.get_variable('c', initializer = tf.zeros_initializer, shape=(1))\n",
        "g2 = tf.Graph()\n",
        "with g2.as_default():\n",
        "  c = tf.compat.v1.get_variable('c', initializer = tf.ones_initializer, shape=(1))\n",
        "with tf.compat.v1.Session(graph = g1) as sess:\n",
        "  tf.compat.v1.initialize_all_variables().run()\n",
        "  with tf.compat.v1.variable_scope(\"\", reuse = True):\n",
        "    print(sess.run(tf.compat.v1.get_variable(\"c\")))"
      ],
      "execution_count": 22,
      "outputs": [
        {
          "output_type": "stream",
          "text": [
            "[0.]\n"
          ],
          "name": "stdout"
        }
      ]
    },
    {
      "cell_type": "code",
      "metadata": {
        "id": "a9jOHf-Wj0N4"
      },
      "source": [
        ""
      ],
      "execution_count": null,
      "outputs": []
    }
  ]
}