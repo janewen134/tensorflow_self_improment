{
  "nbformat": 4,
  "nbformat_minor": 0,
  "metadata": {
    "colab": {
      "name": "iris.ipynb",
      "provenance": [],
      "authorship_tag": "ABX9TyNoifkxZGc1ruxfvraeOyEA",
      "include_colab_link": true
    },
    "kernelspec": {
      "name": "python3",
      "display_name": "Python 3"
    }
  },
  "cells": [
    {
      "cell_type": "markdown",
      "metadata": {
        "id": "view-in-github",
        "colab_type": "text"
      },
      "source": [
        "<a href=\"https://colab.research.google.com/github/janewen134/tensorflow_self_improvement/blob/after_class_revision/iris.ipynb\" target=\"_parent\"><img src=\"https://colab.research.google.com/assets/colab-badge.svg\" alt=\"Open In Colab\"/></a>"
      ]
    },
    {
      "cell_type": "code",
      "metadata": {
        "id": "2BQgsH5SCsUG",
        "colab_type": "code",
        "colab": {}
      },
      "source": [
        "from sklearn.datasets import load_iris\n",
        "x_data = datasets.load_iris().data\n",
        "y_dara = datasets.load_iris().target"
      ],
      "execution_count": null,
      "outputs": []
    },
    {
      "cell_type": "code",
      "metadata": {
        "id": "5IyZzZL8DNFI",
        "colab_type": "code",
        "colab": {
          "base_uri": "https://localhost:8080/",
          "height": 51
        },
        "outputId": "1420c7d6-b9a1-48c2-96d3-90fa789aae1f"
      },
      "source": [
        "import tensorflow as tf\n",
        "\n",
        "t = tf.nn.softmax([2.,3.,1.])\n",
        "print(t)\n",
        "\n",
        "t_ = tf.constant([2.,3,1])\n",
        "t__ = tf.nn.softmax(t_)\n",
        "print(t__)"
      ],
      "execution_count": null,
      "outputs": [
        {
          "output_type": "stream",
          "text": [
            "tf.Tensor([0.24472848 0.66524094 0.09003057], shape=(3,), dtype=float32)\n",
            "tf.Tensor([0.24472848 0.66524094 0.09003057], shape=(3,), dtype=float32)\n"
          ],
          "name": "stdout"
        }
      ]
    },
    {
      "cell_type": "code",
      "metadata": {
        "id": "OQ0tGReyK9s6",
        "colab_type": "code",
        "colab": {}
      },
      "source": [
        ""
      ],
      "execution_count": null,
      "outputs": []
    }
  ]
}