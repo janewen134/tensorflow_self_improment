{
  "nbformat": 4,
  "nbformat_minor": 0,
  "metadata": {
    "colab": {
      "name": "revision1.ipynb",
      "provenance": [],
      "authorship_tag": "ABX9TyP3/JtdOs+OShb2KYARlNZX",
      "include_colab_link": true
    },
    "kernelspec": {
      "name": "python3",
      "display_name": "Python 3"
    }
  },
  "cells": [
    {
      "cell_type": "markdown",
      "metadata": {
        "id": "view-in-github",
        "colab_type": "text"
      },
      "source": [
        "<a href=\"https://colab.research.google.com/github/janewen134/tensorflow_self_improvement/blob/after_class_revision/revision1.ipynb\" target=\"_parent\"><img src=\"https://colab.research.google.com/assets/colab-badge.svg\" alt=\"Open In Colab\"/></a>"
      ]
    },
    {
      "cell_type": "code",
      "metadata": {
        "id": "l4H_FcOA4zPk",
        "colab_type": "code",
        "colab": {
          "base_uri": "https://localhost:8080/",
          "height": 34
        },
        "outputId": "38a16b45-896d-4b5e-9899-f5d199cf4743"
      },
      "source": [
        "import tensorflow as tf\n",
        "import numpy as np\n",
        "\n",
        "a = tf.constant(np.arange(1,9), dtype=tf.int32)\n",
        "print(a)"
      ],
      "execution_count": null,
      "outputs": [
        {
          "output_type": "stream",
          "text": [
            "tf.Tensor([1 2 3 4 5 6 7 8], shape=(8,), dtype=int32)\n"
          ],
          "name": "stdout"
        }
      ]
    },
    {
      "cell_type": "code",
      "metadata": {
        "id": "OKzcyl4d8SDj",
        "colab_type": "code",
        "colab": {
          "base_uri": "https://localhost:8080/",
          "height": 34
        },
        "outputId": "58e5ba0c-0c41-48ae-ef3a-8bb9829781ed"
      },
      "source": [
        "import tensorflow as tf\n",
        "import numpy as np\n",
        "a = np.arange(1,3, dtype=np.int32)\n",
        "b = tf.convert_to_tensor(a)\n",
        "print(a)"
      ],
      "execution_count": 16,
      "outputs": [
        {
          "output_type": "stream",
          "text": [
            "[1 2]\n"
          ],
          "name": "stdout"
        }
      ]
    },
    {
      "cell_type": "code",
      "metadata": {
        "id": "EjgEc6Gf6Htw",
        "colab_type": "code",
        "colab": {
          "base_uri": "https://localhost:8080/",
          "height": 663
        },
        "outputId": "fb82c078-4fcb-4e29-82f4-69f3e7483704"
      },
      "source": [
        "import tensorflow as tf\n",
        "tf.ones([3,3,3])\n",
        "tf.zeros([6,7],dtype=tf.int16)\n",
        "c=tf.fill([3,3,3,3], 0)\n",
        "print(c)"
      ],
      "execution_count": 7,
      "outputs": [
        {
          "output_type": "stream",
          "text": [
            "tf.Tensor(\n",
            "[[[[0 0 0]\n",
            "   [0 0 0]\n",
            "   [0 0 0]]\n",
            "\n",
            "  [[0 0 0]\n",
            "   [0 0 0]\n",
            "   [0 0 0]]\n",
            "\n",
            "  [[0 0 0]\n",
            "   [0 0 0]\n",
            "   [0 0 0]]]\n",
            "\n",
            "\n",
            " [[[0 0 0]\n",
            "   [0 0 0]\n",
            "   [0 0 0]]\n",
            "\n",
            "  [[0 0 0]\n",
            "   [0 0 0]\n",
            "   [0 0 0]]\n",
            "\n",
            "  [[0 0 0]\n",
            "   [0 0 0]\n",
            "   [0 0 0]]]\n",
            "\n",
            "\n",
            " [[[0 0 0]\n",
            "   [0 0 0]\n",
            "   [0 0 0]]\n",
            "\n",
            "  [[0 0 0]\n",
            "   [0 0 0]\n",
            "   [0 0 0]]\n",
            "\n",
            "  [[0 0 0]\n",
            "   [0 0 0]\n",
            "   [0 0 0]]]], shape=(3, 3, 3, 3), dtype=int32)\n"
          ],
          "name": "stdout"
        }
      ]
    }
  ]
}