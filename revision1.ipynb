{
  "nbformat": 4,
  "nbformat_minor": 0,
  "metadata": {
    "colab": {
      "name": "revision1.ipynb",
      "provenance": [],
      "authorship_tag": "ABX9TyNG3QGX0cVcxllwf87Jl+kG",
      "include_colab_link": true
    },
    "kernelspec": {
      "name": "python3",
      "display_name": "Python 3"
    }
  },
  "cells": [
    {
      "cell_type": "markdown",
      "metadata": {
        "id": "view-in-github",
        "colab_type": "text"
      },
      "source": [
        "<a href=\"https://colab.research.google.com/github/janewen134/tensorflow_self_improvement/blob/after_class_revision/revision1.ipynb\" target=\"_parent\"><img src=\"https://colab.research.google.com/assets/colab-badge.svg\" alt=\"Open In Colab\"/></a>"
      ]
    },
    {
      "cell_type": "code",
      "metadata": {
        "id": "l4H_FcOA4zPk",
        "colab_type": "code",
        "colab": {
          "base_uri": "https://localhost:8080/",
          "height": 34
        },
        "outputId": "38a16b45-896d-4b5e-9899-f5d199cf4743"
      },
      "source": [
        "import tensorflow as tf\n",
        "import numpy as np\n",
        "\n",
        "a = tf.constant(np.arange(1,9), dtype=tf.int32)\n",
        "print(a)"
      ],
      "execution_count": null,
      "outputs": [
        {
          "output_type": "stream",
          "text": [
            "tf.Tensor([1 2 3 4 5 6 7 8], shape=(8,), dtype=int32)\n"
          ],
          "name": "stdout"
        }
      ]
    },
    {
      "cell_type": "code",
      "metadata": {
        "id": "OKzcyl4d8SDj",
        "colab_type": "code",
        "colab": {
          "base_uri": "https://localhost:8080/",
          "height": 34
        },
        "outputId": "58e5ba0c-0c41-48ae-ef3a-8bb9829781ed"
      },
      "source": [
        "import tensorflow as tf\n",
        "import numpy as np\n",
        "a = np.arange(1,3, dtype=np.int32)\n",
        "b = tf.convert_to_tensor(a)\n",
        "print(a)"
      ],
      "execution_count": null,
      "outputs": [
        {
          "output_type": "stream",
          "text": [
            "[1 2]\n"
          ],
          "name": "stdout"
        }
      ]
    },
    {
      "cell_type": "code",
      "metadata": {
        "id": "pfOwRS_j-iOJ",
        "colab_type": "code",
        "colab": {
          "base_uri": "https://localhost:8080/",
          "height": 85
        },
        "outputId": "9e51e73d-42a6-4b4c-8672-2c0670a7183b"
      },
      "source": [
        "import tensorflow as tf\n",
        "a = tf.random.normal([5,5,5], mean=0, stddev=2)\n",
        "b = tf.random.truncated_normal([5,5,5], mean=0, stddev=2)\n",
        "c = tf.random.uniform([3,3], minval=-2, maxval=2)\n",
        "print(c)"
      ],
      "execution_count": null,
      "outputs": [
        {
          "output_type": "stream",
          "text": [
            "tf.Tensor(\n",
            "[[-0.8926854  -1.7232256   1.246427  ]\n",
            " [-1.6731582   1.941864    1.4627423 ]\n",
            " [ 0.5046272   0.6454396   0.72279024]], shape=(3, 3), dtype=float32)\n"
          ],
          "name": "stdout"
        }
      ]
    },
    {
      "cell_type": "code",
      "metadata": {
        "id": "EjgEc6Gf6Htw",
        "colab_type": "code",
        "colab": {}
      },
      "source": [
        "import tensorflow as tf\n",
        "tf.ones([3,3,3])\n",
        "tf.zeros([6,7],dtype=tf.int16)\n",
        "c=tf.fill([3,3,3,3], 0)\n",
        "#print(c)"
      ],
      "execution_count": null,
      "outputs": []
    },
    {
      "cell_type": "code",
      "metadata": {
        "id": "-nThi983WK8x",
        "colab_type": "code",
        "colab": {
          "base_uri": "https://localhost:8080/",
          "height": 68
        },
        "outputId": "be5e0b4f-5442-410c-ac9a-631b9b6fd028"
      },
      "source": [
        "x1 = tf.constant ([1., 2., 3.], dtype=tf.float64)\n",
        "print(x1)\n",
        "x2 = tf.cast (x1, tf.int32)\n",
        "print(x2)\n",
        "print (tf.reduce_min(x2), tf.reduce_max(x2))"
      ],
      "execution_count": null,
      "outputs": [
        {
          "output_type": "stream",
          "text": [
            "tf.Tensor([1. 2. 3.], shape=(3,), dtype=float64)\n",
            "tf.Tensor([1 2 3], shape=(3,), dtype=int32)\n",
            "tf.Tensor(1, shape=(), dtype=int32) tf.Tensor(3, shape=(), dtype=int32)\n"
          ],
          "name": "stdout"
        }
      ]
    },
    {
      "cell_type": "code",
      "metadata": {
        "id": "c2CKCGNaWN-l",
        "colab_type": "code",
        "colab": {
          "base_uri": "https://localhost:8080/",
          "height": 102
        },
        "outputId": "0508f943-1049-416b-c0c4-a28ddd170429"
      },
      "source": [
        "x=tf.constant( [ [ 1, 2, 3],\n",
        "[ 2,2,3]])\n",
        "print(x)\n",
        "print(tf.reduce_mean( x )) \n",
        "print(tf.reduce_sum( x, axis=1 ))"
      ],
      "execution_count": null,
      "outputs": [
        {
          "output_type": "stream",
          "text": [
            "tf.Tensor(\n",
            "[[1 2 3]\n",
            " [2 2 3]], shape=(2, 3), dtype=int32)\n",
            "tf.Tensor(2, shape=(), dtype=int32)\n",
            "tf.Tensor([6 7], shape=(2,), dtype=int32)\n"
          ],
          "name": "stdout"
        }
      ]
    },
    {
      "cell_type": "code",
      "metadata": {
        "id": "G62hhws2XGzr",
        "colab_type": "code",
        "colab": {}
      },
      "source": [
        "w = tf.Variable(tf.random.normal([2, 2], mean=0, stddev=1))"
      ],
      "execution_count": null,
      "outputs": []
    },
    {
      "cell_type": "code",
      "metadata": {
        "id": "BckqgzqdZjo_",
        "colab_type": "code",
        "colab": {
          "base_uri": "https://localhost:8080/",
          "height": 119
        },
        "outputId": "20c96484-8500-4041-c4c9-aa847ae9fd4c"
      },
      "source": [
        "a = tf.ones([1, 3])\n",
        "b = tf.fill([1, 3], 3.) \n",
        "print(a)\n",
        "print(b)\n",
        "print(tf.add(a,b)) \n",
        "print(tf.subtract(a,b)) \n",
        "print(tf.multiply(a,b)) \n",
        "print(tf.divide(b,a))"
      ],
      "execution_count": null,
      "outputs": [
        {
          "output_type": "stream",
          "text": [
            "tf.Tensor([[1. 1. 1.]], shape=(1, 3), dtype=float32)\n",
            "tf.Tensor([[3. 3. 3.]], shape=(1, 3), dtype=float32)\n",
            "tf.Tensor([[4. 4. 4.]], shape=(1, 3), dtype=float32)\n",
            "tf.Tensor([[-2. -2. -2.]], shape=(1, 3), dtype=float32)\n",
            "tf.Tensor([[3. 3. 3.]], shape=(1, 3), dtype=float32)\n",
            "tf.Tensor([[3. 3. 3.]], shape=(1, 3), dtype=float32)\n"
          ],
          "name": "stdout"
        }
      ]
    },
    {
      "cell_type": "code",
      "metadata": {
        "id": "V7K0YWJAaHEw",
        "colab_type": "code",
        "colab": {
          "base_uri": "https://localhost:8080/",
          "height": 153
        },
        "outputId": "9a909fd8-f812-4840-f836-42dd77d228e4"
      },
      "source": [
        "a = tf.fill([2, ], 3.) \n",
        "print(a) \n",
        "print(tf.pow(a, 3)) \n",
        "print(tf.square(a)) \n",
        "print(tf.sqrt(a))\n",
        "b = tf.fill([1, 2], 3.) \n",
        "print(b) \n",
        "print(tf.square(b))\n",
        "print(tf.pow(b,3))\n",
        "print(tf.sqrt(b))"
      ],
      "execution_count": null,
      "outputs": [
        {
          "output_type": "stream",
          "text": [
            "tf.Tensor([3. 3.], shape=(2,), dtype=float32)\n",
            "tf.Tensor([27. 27.], shape=(2,), dtype=float32)\n",
            "tf.Tensor([9. 9.], shape=(2,), dtype=float32)\n",
            "tf.Tensor([1.7320508 1.7320508], shape=(2,), dtype=float32)\n",
            "tf.Tensor([[3. 3.]], shape=(1, 2), dtype=float32)\n",
            "tf.Tensor([[9. 9.]], shape=(1, 2), dtype=float32)\n",
            "tf.Tensor([[27. 27.]], shape=(1, 2), dtype=float32)\n",
            "tf.Tensor([[1.7320508 1.7320508]], shape=(1, 2), dtype=float32)\n"
          ],
          "name": "stdout"
        }
      ]
    },
    {
      "cell_type": "code",
      "metadata": {
        "id": "XNw8cYzlarX6",
        "colab_type": "code",
        "colab": {
          "base_uri": "https://localhost:8080/",
          "height": 85
        },
        "outputId": "33c09304-9eb4-4bc4-a375-5ae6687b9ef9"
      },
      "source": [
        "a = tf.ones([3, 2])\n",
        "b = tf.fill([2, 3], 3.) \n",
        "print(tf.matmul(a,b))"
      ],
      "execution_count": null,
      "outputs": [
        {
          "output_type": "stream",
          "text": [
            "tf.Tensor(\n",
            "[[6. 6. 6.]\n",
            " [6. 6. 6.]\n",
            " [6. 6. 6.]], shape=(3, 3), dtype=float32)\n"
          ],
          "name": "stdout"
        }
      ]
    },
    {
      "cell_type": "code",
      "metadata": {
        "id": "lNSQY4ZPb602",
        "colab_type": "code",
        "colab": {
          "base_uri": "https://localhost:8080/",
          "height": 139
        },
        "outputId": "aab68644-234b-4181-9cc1-1045a2a534d0"
      },
      "source": [
        "import tensorflow as tf\n",
        "\n",
        "features = tf.ones([5, 4])\n",
        "labels = tf.constant([12,22,44,21])\n",
        "dataset = tf.data.Dataset.from_tensor_slices((features[:,:1], features[:,1:]))\n",
        "print(dataset)\n",
        "for element in dataset:\n",
        "  print(element)"
      ],
      "execution_count": null,
      "outputs": [
        {
          "output_type": "stream",
          "text": [
            "<TensorSliceDataset shapes: ((1,), (3,)), types: (tf.float32, tf.float32)>\n",
            "(<tf.Tensor: shape=(1,), dtype=float32, numpy=array([1.], dtype=float32)>, <tf.Tensor: shape=(3,), dtype=float32, numpy=array([1., 1., 1.], dtype=float32)>)\n",
            "(<tf.Tensor: shape=(1,), dtype=float32, numpy=array([1.], dtype=float32)>, <tf.Tensor: shape=(3,), dtype=float32, numpy=array([1., 1., 1.], dtype=float32)>)\n",
            "(<tf.Tensor: shape=(1,), dtype=float32, numpy=array([1.], dtype=float32)>, <tf.Tensor: shape=(3,), dtype=float32, numpy=array([1., 1., 1.], dtype=float32)>)\n",
            "(<tf.Tensor: shape=(1,), dtype=float32, numpy=array([1.], dtype=float32)>, <tf.Tensor: shape=(3,), dtype=float32, numpy=array([1., 1., 1.], dtype=float32)>)\n",
            "(<tf.Tensor: shape=(1,), dtype=float32, numpy=array([1.], dtype=float32)>, <tf.Tensor: shape=(3,), dtype=float32, numpy=array([1., 1., 1.], dtype=float32)>)\n"
          ],
          "name": "stdout"
        }
      ]
    },
    {
      "cell_type": "code",
      "metadata": {
        "id": "p6ikAeG2eSf_",
        "colab_type": "code",
        "colab": {
          "base_uri": "https://localhost:8080/",
          "height": 34
        },
        "outputId": "7187a972-e53e-4db7-afa8-cb69634bc3f4"
      },
      "source": [
        "with tf.GradientTape() as tape:\n",
        "  # w = tf.Variable(tf.constant(3.0))\n",
        "  # loss = tf.pow(w,2) \n",
        "  w = tf.Variable(3.0)\n",
        "  loss = tf.square(w) \n",
        "grad = tape.gradient(loss, w)\n",
        "print(grad)"
      ],
      "execution_count": null,
      "outputs": [
        {
          "output_type": "stream",
          "text": [
            "tf.Tensor(6.0, shape=(), dtype=float32)\n"
          ],
          "name": "stdout"
        }
      ]
    },
    {
      "cell_type": "code",
      "metadata": {
        "id": "Cp1L1h7chQC1",
        "colab_type": "code",
        "colab": {
          "base_uri": "https://localhost:8080/",
          "height": 119
        },
        "outputId": "330e42d3-84aa-4b6f-ca52-2ccee695a17f"
      },
      "source": [
        "seq = ['one', 'two', 'three']\n",
        "i = 9\n",
        "for j, element in enumerate(seq): \n",
        "  print(i, element)\n",
        "  print(j, element)"
      ],
      "execution_count": null,
      "outputs": [
        {
          "output_type": "stream",
          "text": [
            "9 one\n",
            "0 one\n",
            "9 two\n",
            "1 two\n",
            "9 three\n",
            "2 three\n"
          ],
          "name": "stdout"
        }
      ]
    },
    {
      "cell_type": "code",
      "metadata": {
        "id": "Zvzg2R3ChsxT",
        "colab_type": "code",
        "colab": {
          "base_uri": "https://localhost:8080/",
          "height": 85
        },
        "outputId": "c5407bd0-b967-4014-e808-c353a266895c"
      },
      "source": [
        "classes = 4\n",
        "labels = tf.constant([1,2,5]) # max value 5 is out of range\n",
        "labels = tf.constant([1,2,4]) # max value is 4 at a maximum\n",
        "labels = tf.constant([-1, 0, 4]) # min value -1 is out of range, too\n",
        "output = tf.one_hot(labels, depth=classes)\n",
        "print(output)"
      ],
      "execution_count": null,
      "outputs": [
        {
          "output_type": "stream",
          "text": [
            "tf.Tensor(\n",
            "[[0. 0. 0. 0.]\n",
            " [1. 0. 0. 0.]\n",
            " [0. 0. 0. 0.]], shape=(3, 4), dtype=float32)\n"
          ],
          "name": "stdout"
        }
      ]
    },
    {
      "cell_type": "code",
      "metadata": {
        "id": "To2HY4wCLfVd",
        "colab_type": "code",
        "colab": {
          "base_uri": "https://localhost:8080/",
          "height": 51
        },
        "outputId": "2e3e2db6-00da-470e-98be-519a702073a3"
      },
      "source": [
        "import tensorflow as tf\n",
        "\n",
        "t = tf.nn.softmax([2.,3.,1.])\n",
        "print(t)\n",
        "\n",
        "t_ = tf.constant([2.,3,1])\n",
        "t__ = tf.nn.softmax(t_)\n",
        "print(t__)\n",
        "# They are definitely the same thing!!!!!"
      ],
      "execution_count": 1,
      "outputs": [
        {
          "output_type": "stream",
          "text": [
            "tf.Tensor([0.24472848 0.66524094 0.09003057], shape=(3,), dtype=float32)\n",
            "tf.Tensor([0.24472848 0.66524094 0.09003057], shape=(3,), dtype=float32)\n"
          ],
          "name": "stdout"
        }
      ]
    },
    {
      "cell_type": "code",
      "metadata": {
        "id": "Zy704UN7ioD1",
        "colab_type": "code",
        "colab": {
          "base_uri": "https://localhost:8080/",
          "height": 34
        },
        "outputId": "0a7cbd40-5455-4dad-9549-7e5cbf7f4004"
      },
      "source": [
        "y = tf.constant([1., 2, -8]) # The value should be half, bfloat16, float, double\n",
        "y_pro = tf.nn.softmax(y)\n",
        "print(\"After softmax, y_pro is: \", y_pro)"
      ],
      "execution_count": null,
      "outputs": [
        {
          "output_type": "stream",
          "text": [
            "After softmax, y_pro is:  tf.Tensor([2.6893252e-01 7.3103434e-01 3.3188910e-05], shape=(3,), dtype=float32)\n"
          ],
          "name": "stdout"
        }
      ]
    },
    {
      "cell_type": "code",
      "metadata": {
        "id": "NohojfUGlIxt",
        "colab_type": "code",
        "colab": {
          "base_uri": "https://localhost:8080/",
          "height": 34
        },
        "outputId": "62d40d08-75cd-4bb8-e0fe-ab24234806d2"
      },
      "source": [
        "w = tf.Variable(3)\n",
        "w.assign_sub(1)\n",
        "print(w)"
      ],
      "execution_count": null,
      "outputs": [
        {
          "output_type": "stream",
          "text": [
            "<tf.Variable 'Variable:0' shape=() dtype=int32, numpy=2>\n"
          ],
          "name": "stdout"
        }
      ]
    },
    {
      "cell_type": "code",
      "metadata": {
        "id": "RweP5mLEm_cl",
        "colab_type": "code",
        "colab": {
          "base_uri": "https://localhost:8080/",
          "height": 119
        },
        "outputId": "9425fcda-fefa-4def-ae9e-dc28406aab66"
      },
      "source": [
        "import numpy as np\n",
        "test = np.array([[1, 2, 3], [2, 3, 4], [5, 4, 3], [8, 7, 2]])\n",
        "print(test)\n",
        "print( tf.argmax (test, axis=0)) # 返回每一列(经度)最大值的索引 \n",
        "print( tf.argmax (test, axis=1)) # 返回每一行(纬度)最大值的索引"
      ],
      "execution_count": null,
      "outputs": [
        {
          "output_type": "stream",
          "text": [
            "[[1 2 3]\n",
            " [2 3 4]\n",
            " [5 4 3]\n",
            " [8 7 2]]\n",
            "tf.Tensor([3 3 1], shape=(3,), dtype=int64)\n",
            "tf.Tensor([2 2 0 0], shape=(4,), dtype=int64)\n"
          ],
          "name": "stdout"
        }
      ]
    },
    {
      "cell_type": "code",
      "metadata": {
        "id": "YxsmLsMznS3H",
        "colab_type": "code",
        "colab": {}
      },
      "source": [
        ""
      ],
      "execution_count": null,
      "outputs": []
    }
  ]
}